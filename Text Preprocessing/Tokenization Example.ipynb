{
 "cells": [
  {
   "cell_type": "code",
   "execution_count": 9,
   "id": "fb0ccb0c",
   "metadata": {},
   "outputs": [
    {
     "name": "stderr",
     "output_type": "stream",
     "text": [
      "[nltk_data] Downloading package punkt_tab to C:\\Users\\SEJAL\n",
      "[nltk_data]     WAGH\\AppData\\Roaming\\nltk_data...\n",
      "[nltk_data]   Unzipping tokenizers\\punkt_tab.zip.\n",
      "[nltk_data] Downloading package punkt to C:\\Users\\SEJAL\n",
      "[nltk_data]     WAGH\\AppData\\Roaming\\nltk_data...\n",
      "[nltk_data]   Package punkt is already up-to-date!\n"
     ]
    },
    {
     "data": {
      "text/plain": [
       "True"
      ]
     },
     "execution_count": 9,
     "metadata": {},
     "output_type": "execute_result"
    }
   ],
   "source": [
    "import nltk\n",
    "nltk.download('punkt_tab')\n",
    "nltk.download('punkt')"
   ]
  },
  {
   "cell_type": "code",
   "execution_count": 2,
   "id": "dacc9fb0",
   "metadata": {},
   "outputs": [],
   "source": [
    "corpus = \"\"\"Technology is changing rapidly!\n",
    "Every year, new innovations reshape how we live, work, and communicate. It's truly amazing.\n",
    "\"\"\""
   ]
  },
  {
   "cell_type": "code",
   "execution_count": 3,
   "id": "0ce9d158",
   "metadata": {},
   "outputs": [
    {
     "name": "stdout",
     "output_type": "stream",
     "text": [
      "Technology is changing rapidly!\n",
      "Every year, new innovations reshape how we live, work, and communicate. It's truly amazing.\n",
      "\n"
     ]
    }
   ],
   "source": [
    "print(corpus)"
   ]
  },
  {
   "cell_type": "markdown",
   "id": "5460e721",
   "metadata": {},
   "source": [
    "**Tokenization** <br>\n",
    "Paragraphs ---> Sentence"
   ]
  },
  {
   "cell_type": "code",
   "execution_count": 12,
   "id": "7655e7ac",
   "metadata": {},
   "outputs": [],
   "source": [
    "from nltk.tokenize import sent_tokenize\n",
    "documents = sent_tokenize(corpus)"
   ]
  },
  {
   "cell_type": "code",
   "execution_count": 13,
   "id": "6dd18675",
   "metadata": {},
   "outputs": [
    {
     "data": {
      "text/plain": [
       "['Technology is changing rapidly!',\n",
       " 'Every year, new innovations reshape how we live, work, and communicate.',\n",
       " \"It's truly amazing.\"]"
      ]
     },
     "execution_count": 13,
     "metadata": {},
     "output_type": "execute_result"
    }
   ],
   "source": [
    "documents"
   ]
  },
  {
   "cell_type": "code",
   "execution_count": 14,
   "id": "ed824177",
   "metadata": {},
   "outputs": [
    {
     "data": {
      "text/plain": [
       "list"
      ]
     },
     "execution_count": 14,
     "metadata": {},
     "output_type": "execute_result"
    }
   ],
   "source": [
    "type(documents)"
   ]
  },
  {
   "cell_type": "code",
   "execution_count": 15,
   "id": "cd87fb8a",
   "metadata": {},
   "outputs": [
    {
     "name": "stdout",
     "output_type": "stream",
     "text": [
      "Technology is changing rapidly!\n",
      "Every year, new innovations reshape how we live, work, and communicate.\n",
      "It's truly amazing.\n"
     ]
    }
   ],
   "source": [
    "for sent in documents:\n",
    "    print(sent)"
   ]
  },
  {
   "cell_type": "markdown",
   "id": "4d04f39d",
   "metadata": {},
   "source": [
    "**Tokenization** <br>\n",
    "Paragraphs ---> Words <br>\n",
    "Sentence ---> Words"
   ]
  },
  {
   "cell_type": "code",
   "execution_count": 16,
   "id": "f453dd62",
   "metadata": {},
   "outputs": [
    {
     "data": {
      "text/plain": [
       "['Technology',\n",
       " 'is',\n",
       " 'changing',\n",
       " 'rapidly',\n",
       " '!',\n",
       " 'Every',\n",
       " 'year',\n",
       " ',',\n",
       " 'new',\n",
       " 'innovations',\n",
       " 'reshape',\n",
       " 'how',\n",
       " 'we',\n",
       " 'live',\n",
       " ',',\n",
       " 'work',\n",
       " ',',\n",
       " 'and',\n",
       " 'communicate',\n",
       " '.',\n",
       " 'It',\n",
       " \"'s\",\n",
       " 'truly',\n",
       " 'amazing',\n",
       " '.']"
      ]
     },
     "execution_count": 16,
     "metadata": {},
     "output_type": "execute_result"
    }
   ],
   "source": [
    "from nltk.tokenize import word_tokenize\n",
    "word_tokenize(corpus)"
   ]
  },
  {
   "cell_type": "code",
   "execution_count": 18,
   "id": "9562d07c",
   "metadata": {},
   "outputs": [
    {
     "name": "stdout",
     "output_type": "stream",
     "text": [
      "['Technology', 'is', 'changing', 'rapidly', '!']\n",
      "['Every', 'year', ',', 'new', 'innovations', 'reshape', 'how', 'we', 'live', ',', 'work', ',', 'and', 'communicate', '.']\n",
      "['It', \"'s\", 'truly', 'amazing', '.']\n"
     ]
    }
   ],
   "source": [
    "for sent in documents:\n",
    "    print(word_tokenize(sent))"
   ]
  },
  {
   "cell_type": "code",
   "execution_count": 19,
   "id": "f93ddf6c",
   "metadata": {},
   "outputs": [
    {
     "data": {
      "text/plain": [
       "['Technology',\n",
       " 'is',\n",
       " 'changing',\n",
       " 'rapidly',\n",
       " '!',\n",
       " 'Every',\n",
       " 'year',\n",
       " ',',\n",
       " 'new',\n",
       " 'innovations',\n",
       " 'reshape',\n",
       " 'how',\n",
       " 'we',\n",
       " 'live',\n",
       " ',',\n",
       " 'work',\n",
       " ',',\n",
       " 'and',\n",
       " 'communicate',\n",
       " '.',\n",
       " 'It',\n",
       " \"'\",\n",
       " 's',\n",
       " 'truly',\n",
       " 'amazing',\n",
       " '.']"
      ]
     },
     "execution_count": 19,
     "metadata": {},
     "output_type": "execute_result"
    }
   ],
   "source": [
    "from nltk.tokenize import wordpunct_tokenize\n",
    "wordpunct_tokenize(corpus)"
   ]
  },
  {
   "cell_type": "code",
   "execution_count": 21,
   "id": "18a13dd4",
   "metadata": {},
   "outputs": [],
   "source": [
    "from nltk.tokenize import TreebankWordTokenizer\n",
    "tokenizer = TreebankWordTokenizer()"
   ]
  },
  {
   "cell_type": "code",
   "execution_count": 22,
   "id": "7d690372",
   "metadata": {},
   "outputs": [
    {
     "data": {
      "text/plain": [
       "['Technology',\n",
       " 'is',\n",
       " 'changing',\n",
       " 'rapidly',\n",
       " '!',\n",
       " 'Every',\n",
       " 'year',\n",
       " ',',\n",
       " 'new',\n",
       " 'innovations',\n",
       " 'reshape',\n",
       " 'how',\n",
       " 'we',\n",
       " 'live',\n",
       " ',',\n",
       " 'work',\n",
       " ',',\n",
       " 'and',\n",
       " 'communicate.',\n",
       " 'It',\n",
       " \"'s\",\n",
       " 'truly',\n",
       " 'amazing',\n",
       " '.']"
      ]
     },
     "execution_count": 22,
     "metadata": {},
     "output_type": "execute_result"
    }
   ],
   "source": [
    "tokenizer.tokenize(corpus)"
   ]
  }
 ],
 "metadata": {
  "kernelspec": {
   "display_name": "Python 3",
   "language": "python",
   "name": "python3"
  },
  "language_info": {
   "codemirror_mode": {
    "name": "ipython",
    "version": 3
   },
   "file_extension": ".py",
   "mimetype": "text/x-python",
   "name": "python",
   "nbconvert_exporter": "python",
   "pygments_lexer": "ipython3",
   "version": "3.12.6"
  }
 },
 "nbformat": 4,
 "nbformat_minor": 5
}
